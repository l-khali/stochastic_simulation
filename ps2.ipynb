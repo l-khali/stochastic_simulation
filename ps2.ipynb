{
 "cells": [
  {
   "cell_type": "code",
   "execution_count": 7,
   "metadata": {},
   "outputs": [],
   "source": [
    "import numpy as np\n",
    "import matplotlib.pyplot as plt"
   ]
  },
  {
   "cell_type": "code",
   "execution_count": 2,
   "metadata": {},
   "outputs": [],
   "source": [
    "rng = np.random.default_rng(42)"
   ]
  },
  {
   "attachments": {},
   "cell_type": "markdown",
   "metadata": {},
   "source": [
    "## Exercise 2.1"
   ]
  },
  {
   "cell_type": "code",
   "execution_count": 5,
   "metadata": {},
   "outputs": [],
   "source": [
    "alpha = 1\n",
    "lamda = 1\n",
    "beta = 1"
   ]
  },
  {
   "cell_type": "code",
   "execution_count": 6,
   "metadata": {},
   "outputs": [],
   "source": [
    "u = rng.uniform(0,1,10000)\n",
    "x = alpha * (-1/lamda * np.log(1-u)) ** (1/beta)"
   ]
  },
  {
   "cell_type": "code",
   "execution_count": 9,
   "metadata": {},
   "outputs": [
    {
     "data": {
      "text/plain": [
       "(array([1.009e+03, 9.190e+02, 8.350e+02, 7.390e+02, 6.790e+02, 5.990e+02,\n",
       "        5.680e+02, 4.420e+02, 4.100e+02, 3.760e+02, 3.610e+02, 3.040e+02,\n",
       "        2.880e+02, 2.690e+02, 2.420e+02, 2.260e+02, 2.100e+02, 1.620e+02,\n",
       "        1.390e+02, 1.440e+02, 1.010e+02, 1.020e+02, 9.000e+01, 7.700e+01,\n",
       "        7.600e+01, 6.400e+01, 6.000e+01, 4.800e+01, 4.300e+01, 4.400e+01,\n",
       "        3.600e+01, 3.500e+01, 3.500e+01, 3.200e+01, 2.000e+01, 2.300e+01,\n",
       "        2.200e+01, 1.400e+01, 1.500e+01, 1.100e+01, 1.600e+01, 1.000e+01,\n",
       "        9.000e+00, 1.100e+01, 1.100e+01, 1.100e+01, 9.000e+00, 3.000e+00,\n",
       "        4.000e+00, 6.000e+00, 6.000e+00, 2.000e+00, 3.000e+00, 5.000e+00,\n",
       "        7.000e+00, 2.000e+00, 1.000e+00, 1.000e+00, 0.000e+00, 1.000e+00,\n",
       "        1.000e+00, 0.000e+00, 1.000e+00, 0.000e+00, 1.000e+00, 1.000e+00,\n",
       "        1.000e+00, 0.000e+00, 0.000e+00, 1.000e+00, 0.000e+00, 1.000e+00,\n",
       "        1.000e+00, 1.000e+00, 0.000e+00, 0.000e+00, 0.000e+00, 0.000e+00,\n",
       "        0.000e+00, 0.000e+00, 0.000e+00, 0.000e+00, 0.000e+00, 0.000e+00,\n",
       "        0.000e+00, 1.000e+00, 0.000e+00, 0.000e+00, 1.000e+00, 0.000e+00,\n",
       "        0.000e+00, 1.000e+00, 0.000e+00, 0.000e+00, 0.000e+00, 0.000e+00,\n",
       "        0.000e+00, 0.000e+00, 0.000e+00, 1.000e+00]),\n",
       " array([4.72109436e-05, 1.09573233e-01, 2.19099256e-01, 3.28625278e-01,\n",
       "        4.38151301e-01, 5.47677323e-01, 6.57203345e-01, 7.66729368e-01,\n",
       "        8.76255390e-01, 9.85781413e-01, 1.09530744e+00, 1.20483346e+00,\n",
       "        1.31435948e+00, 1.42388550e+00, 1.53341152e+00, 1.64293755e+00,\n",
       "        1.75246357e+00, 1.86198959e+00, 1.97151561e+00, 2.08104164e+00,\n",
       "        2.19056766e+00, 2.30009368e+00, 2.40961970e+00, 2.51914573e+00,\n",
       "        2.62867175e+00, 2.73819777e+00, 2.84772379e+00, 2.95724982e+00,\n",
       "        3.06677584e+00, 3.17630186e+00, 3.28582788e+00, 3.39535391e+00,\n",
       "        3.50487993e+00, 3.61440595e+00, 3.72393197e+00, 3.83345800e+00,\n",
       "        3.94298402e+00, 4.05251004e+00, 4.16203606e+00, 4.27156208e+00,\n",
       "        4.38108811e+00, 4.49061413e+00, 4.60014015e+00, 4.70966617e+00,\n",
       "        4.81919220e+00, 4.92871822e+00, 5.03824424e+00, 5.14777026e+00,\n",
       "        5.25729629e+00, 5.36682231e+00, 5.47634833e+00, 5.58587435e+00,\n",
       "        5.69540038e+00, 5.80492640e+00, 5.91445242e+00, 6.02397844e+00,\n",
       "        6.13350447e+00, 6.24303049e+00, 6.35255651e+00, 6.46208253e+00,\n",
       "        6.57160856e+00, 6.68113458e+00, 6.79066060e+00, 6.90018662e+00,\n",
       "        7.00971264e+00, 7.11923867e+00, 7.22876469e+00, 7.33829071e+00,\n",
       "        7.44781673e+00, 7.55734276e+00, 7.66686878e+00, 7.77639480e+00,\n",
       "        7.88592082e+00, 7.99544685e+00, 8.10497287e+00, 8.21449889e+00,\n",
       "        8.32402491e+00, 8.43355094e+00, 8.54307696e+00, 8.65260298e+00,\n",
       "        8.76212900e+00, 8.87165503e+00, 8.98118105e+00, 9.09070707e+00,\n",
       "        9.20023309e+00, 9.30975912e+00, 9.41928514e+00, 9.52881116e+00,\n",
       "        9.63833718e+00, 9.74786321e+00, 9.85738923e+00, 9.96691525e+00,\n",
       "        1.00764413e+01, 1.01859673e+01, 1.02954933e+01, 1.04050193e+01,\n",
       "        1.05145454e+01, 1.06240714e+01, 1.07335974e+01, 1.08431234e+01,\n",
       "        1.09526495e+01]),\n",
       " <BarContainer object of 100 artists>)"
      ]
     },
     "execution_count": 9,
     "metadata": {},
     "output_type": "execute_result"
    },
    {
     "data": {
      "image/png": "[encoded data removed]",
      "text/plain": [
       "<Figure size 432x288 with 1 Axes>"
      ]
     },
     "metadata": {
      "needs_background": "light"
     },
     "output_type": "display_data"
    }
   ],
   "source": [
    "plt.hist(x, 100)"
   ]
  },
  {
   "attachments": {},
   "cell_type": "markdown",
   "metadata": {},
   "source": [
    "## Exercise 2.2"
   ]
  },
  {
   "cell_type": "code",
   "execution_count": 11,
   "metadata": {},
   "outputs": [
    {
     "data": {
      "image/png": "[encoded data removed]",
      "text/plain": [
       "<Figure size 432x288 with 1 Axes>"
      ]
     },
     "metadata": {
      "needs_background": "light"
     },
     "output_type": "display_data"
    }
   ],
   "source": [
    "N = 10000000\n",
    "x_1 = rng.uniform(0, 1, N)\n",
    "x_2 = rng.uniform(-np.pi, np.pi, N)\n",
    "\n",
    "y_1 = x_1 * np.cos(x_2)\n",
    "y_2 = x_1 * np.sin(x_2)\n",
    "\n",
    "# plot 2d histogram of y_1 and y_2\n",
    "plt.hist2d(y_1, y_2, bins=50)\n",
    "plt.xlabel('$y_1$')\n",
    "plt.ylabel('$y_2$')\n",
    "plt.show()"
   ]
  },
  {
   "attachments": {},
   "cell_type": "markdown",
   "metadata": {},
   "source": [
    "## Exercise 2.3"
   ]
  },
  {
   "cell_type": "code",
   "execution_count": 16,
   "metadata": {},
   "outputs": [],
   "source": [
    "def exponential_pdf(x, lam):\n",
    "    return lam * np.exp(-lam * x)\n",
    "\n",
    "def exponential_cdf(x, lam):\n",
    "    return 1 - np.exp(-lam * x)\n",
    "\n",
    "def exp_sampler(lam, nsim):\n",
    "    x = []\n",
    "    for _ in range(nsim):\n",
    "        x.append(-np.log(1-rng.uniform(0,1))/lam)\n",
    "    plt.hist(x, 100)\n"
   ]
  },
  {
   "cell_type": "code",
   "execution_count": 17,
   "metadata": {},
   "outputs": [
    {
     "data": {
      "image/png": "[encoded data removed]",
      "text/plain": [
       "<Figure size 432x288 with 1 Axes>"
      ]
     },
     "metadata": {
      "needs_background": "light"
     },
     "output_type": "display_data"
    }
   ],
   "source": [
    "exp_sampler(4, 10000)"
   ]
  },
  {
   "cell_type": "code",
   "execution_count": 18,
   "metadata": {},
   "outputs": [],
   "source": [
    "def gamma_sampler(nsim, alpha):\n",
    "    M = ((alpha ** alpha) * np.exp(1-alpha))/np.factorial(alpha-1)"
   ]
  },
  {
   "cell_type": "code",
   "execution_count": null,
   "metadata": {},
   "outputs": [],
   "source": []
  }
 ],
 "metadata": {
  "kernelspec": {
   "display_name": "base",
   "language": "python",
   "name": "python3"
  },
  "language_info": {
   "codemirror_mode": {
    "name": "ipython",
    "version": 3
   },
   "file_extension": ".py",
   "mimetype": "text/x-python",
   "name": "python",
   "nbconvert_exporter": "python",
   "pygments_lexer": "ipython3",
   "version": "3.8.12"
  },
  "orig_nbformat": 4
 },
 "nbformat": 4,
 "nbformat_minor": 2
}
